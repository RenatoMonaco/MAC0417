{
  "nbformat": 4,
  "nbformat_minor": 0,
  "metadata": {
    "colab": {
      "name": "EP1.ipynb",
      "provenance": [],
      "include_colab_link": true
    },
    "kernelspec": {
      "name": "python3",
      "display_name": "Python 3"
    },
    "language_info": {
      "name": "python"
    }
  },
  "cells": [
    {
      "cell_type": "markdown",
      "metadata": {
        "id": "view-in-github",
        "colab_type": "text"
      },
      "source": [
        "<a href=\"https://colab.research.google.com/github/RenatoMonaco/MAC0417/blob/main/EP1.ipynb\" target=\"_parent\"><img src=\"https://colab.research.google.com/assets/colab-badge.svg\" alt=\"Open In Colab\"/></a>"
      ]
    },
    {
      "cell_type": "code",
      "metadata": {
        "colab": {
          "base_uri": "https://localhost:8080/"
        },
        "id": "4cQUf9-Mgmdi",
        "outputId": "abbd1598-5b5a-4f76-a012-597fb5a0103a"
      },
      "source": [
        "from google.colab import drive\n",
        "drive.mount('/content/gdrive')"
      ],
      "execution_count": 93,
      "outputs": [
        {
          "output_type": "stream",
          "text": [
            "Drive already mounted at /content/gdrive; to attempt to forcibly remount, call drive.mount(\"/content/gdrive\", force_remount=True).\n"
          ],
          "name": "stdout"
        }
      ]
    },
    {
      "cell_type": "code",
      "metadata": {
        "colab": {
          "base_uri": "https://localhost:8080/"
        },
        "id": "Z4INfK0sjPFN",
        "outputId": "c582a8c0-2689-4484-da80-217f9721e753"
      },
      "source": [
        "!ls -all -h /content/gdrive/Shareddrives/Grupo\\ Visão/EP1"
      ],
      "execution_count": 94,
      "outputs": [
        {
          "output_type": "stream",
          "text": [
            "total 16K\n",
            "drwx------ 2 root root 4.0K May 17 18:55 dados\n",
            "-rw------- 1 root root  12K May 17 23:25 EP1.ipynb\n"
          ],
          "name": "stdout"
        }
      ]
    },
    {
      "cell_type": "code",
      "metadata": {
        "id": "VtFbu4cojixY"
      },
      "source": [
        "import os\n",
        "import pandas as pd"
      ],
      "execution_count": 95,
      "outputs": []
    },
    {
      "cell_type": "code",
      "metadata": {
        "id": "vAteia-aj6V_"
      },
      "source": [
        "path = \"/content/gdrive/Shareddrives/Grupo Visão/EP1/dados/\"\n",
        "files = os.listdir(path)"
      ],
      "execution_count": 96,
      "outputs": []
    },
    {
      "cell_type": "markdown",
      "metadata": {
        "id": "fiOux28lt3Fp"
      },
      "source": [
        "# Tabela Sumária"
      ]
    },
    {
      "cell_type": "code",
      "metadata": {
        "id": "8accGv8rscEd"
      },
      "source": [
        "size = 0\n",
        "\n",
        "for file in files:\n",
        "  f_path = os.path.join(\"/content/gdrive/Shareddrives/Grupo Visão/EP1/dados\", file)\n",
        "  f_size = os.path.getsize(f_path)\n",
        "  f_size_kb = f_size \n",
        "\n",
        "  size += f_size_kb"
      ],
      "execution_count": 98,
      "outputs": []
    },
    {
      "cell_type": "code",
      "metadata": {
        "colab": {
          "base_uri": "https://localhost:8080/",
          "height": 80
        },
        "id": "ch8J_l7dwxL5",
        "outputId": "ed4eb42f-a6ce-4c03-bd5e-e7c4ec2ccb62"
      },
      "source": [
        "df_summary = pd.DataFrame(columns=('Número de classes', 'Número de imagens', 'Tamanho da base (bytes)', 'Resolução das imagens'))\n",
        "\n",
        "df_summary = df_summary.append({'Número de classes': 10, 'Número de imagens': len(files), 'Tamanho da base (bytes)': size, 'Resolução das imagens': \"3840x2160(16:9, 8,29MP)\" }, ignore_index=True)\n",
        "\n",
        "df_summary"
      ],
      "execution_count": 99,
      "outputs": [
        {
          "output_type": "execute_result",
          "data": {
            "text/html": [
              "<div>\n",
              "<style scoped>\n",
              "    .dataframe tbody tr th:only-of-type {\n",
              "        vertical-align: middle;\n",
              "    }\n",
              "\n",
              "    .dataframe tbody tr th {\n",
              "        vertical-align: top;\n",
              "    }\n",
              "\n",
              "    .dataframe thead th {\n",
              "        text-align: right;\n",
              "    }\n",
              "</style>\n",
              "<table border=\"1\" class=\"dataframe\">\n",
              "  <thead>\n",
              "    <tr style=\"text-align: right;\">\n",
              "      <th></th>\n",
              "      <th>Número de classes</th>\n",
              "      <th>Número de imagens</th>\n",
              "      <th>Tamanho da base (bytes)</th>\n",
              "      <th>Resolução das imagens</th>\n",
              "    </tr>\n",
              "  </thead>\n",
              "  <tbody>\n",
              "    <tr>\n",
              "      <th>0</th>\n",
              "      <td>10</td>\n",
              "      <td>1548</td>\n",
              "      <td>1935412542</td>\n",
              "      <td>3840x2160(16:9, 8,29MP)</td>\n",
              "    </tr>\n",
              "  </tbody>\n",
              "</table>\n",
              "</div>"
            ],
            "text/plain": [
              "  Número de classes  ...    Resolução das imagens\n",
              "0                10  ...  3840x2160(16:9, 8,29MP)\n",
              "\n",
              "[1 rows x 4 columns]"
            ]
          },
          "metadata": {
            "tags": []
          },
          "execution_count": 99
        }
      ]
    },
    {
      "cell_type": "code",
      "metadata": {
        "id": "YW6ydgYBpXVu"
      },
      "source": [
        "df = pd.DataFrame(columns=('Classe', 'Descricao_classe', 'Fundo', 'Descricao_fundo' ,'Interno_Externo', 'Dia_Noite', 'Objeto', 'Repeticao'))"
      ],
      "execution_count": 100,
      "outputs": []
    },
    {
      "cell_type": "code",
      "metadata": {
        "id": "n6WflROqyltp"
      },
      "source": [
        "df.to_csv(\"/content/gdrive/Shareddrives/Grupo Visão/EP1/tabela-sumaria.csv\")"
      ],
      "execution_count": 101,
      "outputs": []
    },
    {
      "cell_type": "markdown",
      "metadata": {
        "id": "hiXEeA3KsBZg"
      },
      "source": [
        "# Tabela Detalhada"
      ]
    },
    {
      "cell_type": "markdown",
      "metadata": {
        "id": "6VSEXw6FsKST"
      },
      "source": [
        "Gerando tabela detalhada com base das no padrão adotado no armazenamento das imagens."
      ]
    },
    {
      "cell_type": "code",
      "metadata": {
        "id": "UxiQy1cC0FGh"
      },
      "source": [
        "classes = { \n",
        "    '01': 'pregador',\n",
        "    '02': 'livro',\n",
        "    '03': 'cabide',\n",
        "    '04': 'chave',\n",
        "    '05': 'escova de dente',\n",
        "    '06': 'lápis',\n",
        "    '07': 'esmalte',\n",
        "    '08': 'comedouro (pratinho pet)',\n",
        "    '09': \"garrafinha d'agua\",\n",
        "    '10': 'limão'\n",
        "}"
      ],
      "execution_count": 102,
      "outputs": []
    },
    {
      "cell_type": "code",
      "metadata": {
        "id": "TMuAAHeA1otB"
      },
      "source": [
        "fundos = {\n",
        "    '1': 'toalha de plástico creme',\n",
        "    '2': 'algodão creme',\n",
        "    '3': 'tapete EVA verde',\n",
        "    '4': 'mesa branca / toalha marrom',\n",
        "    '5': 'toalha de rosto preta',\n",
        "    '6': 'pano de chroma key verde',\n",
        "    '7': 'feltro preto',\n",
        "    '8': 'feltro branco',\n",
        "    '9': 'algodão rosa',\n",
        "}"
      ],
      "execution_count": 103,
      "outputs": []
    },
    {
      "cell_type": "code",
      "metadata": {
        "id": "90wXmv3ek6WE"
      },
      "source": [
        "for file in files:\n",
        "  classe = file[:2]\n",
        "  fundo = file[2:3]\n",
        "  ie = file[3:4]\n",
        "  dn = file[4:5]\n",
        "  obj = file[5:6]\n",
        "  n = file[6:7]\n",
        "\n",
        "  new_row = {'Classe': classe, 'Descricao_classe': classes[str(classe)], 'Fundo': fundo, 'Descricao_fundo': fundos[str(fundo)], 'Interno_Externo': ie, 'Dia_Noite': dn, 'Objeto': obj, 'Repeticao': n }\n",
        "  df = df.append(new_row, ignore_index=True)"
      ],
      "execution_count": 104,
      "outputs": []
    },
    {
      "cell_type": "code",
      "metadata": {
        "colab": {
          "base_uri": "https://localhost:8080/",
          "height": 419
        },
        "id": "le94WjGlpukM",
        "outputId": "98760e2c-aed4-4872-e854-8d55eb8679c9"
      },
      "source": [
        "df"
      ],
      "execution_count": 105,
      "outputs": [
        {
          "output_type": "execute_result",
          "data": {
            "text/html": [
              "<div>\n",
              "<style scoped>\n",
              "    .dataframe tbody tr th:only-of-type {\n",
              "        vertical-align: middle;\n",
              "    }\n",
              "\n",
              "    .dataframe tbody tr th {\n",
              "        vertical-align: top;\n",
              "    }\n",
              "\n",
              "    .dataframe thead th {\n",
              "        text-align: right;\n",
              "    }\n",
              "</style>\n",
              "<table border=\"1\" class=\"dataframe\">\n",
              "  <thead>\n",
              "    <tr style=\"text-align: right;\">\n",
              "      <th></th>\n",
              "      <th>Classe</th>\n",
              "      <th>Descricao_classe</th>\n",
              "      <th>Fundo</th>\n",
              "      <th>Descricao_fundo</th>\n",
              "      <th>Interno_Externo</th>\n",
              "      <th>Dia_Noite</th>\n",
              "      <th>Objeto</th>\n",
              "      <th>Repeticao</th>\n",
              "    </tr>\n",
              "  </thead>\n",
              "  <tbody>\n",
              "    <tr>\n",
              "      <th>0</th>\n",
              "      <td>07</td>\n",
              "      <td>esmalte</td>\n",
              "      <td>9</td>\n",
              "      <td>algodão rosa</td>\n",
              "      <td>I</td>\n",
              "      <td>N</td>\n",
              "      <td>3</td>\n",
              "      <td>3</td>\n",
              "    </tr>\n",
              "    <tr>\n",
              "      <th>1</th>\n",
              "      <td>07</td>\n",
              "      <td>esmalte</td>\n",
              "      <td>9</td>\n",
              "      <td>algodão rosa</td>\n",
              "      <td>I</td>\n",
              "      <td>N</td>\n",
              "      <td>3</td>\n",
              "      <td>2</td>\n",
              "    </tr>\n",
              "    <tr>\n",
              "      <th>2</th>\n",
              "      <td>07</td>\n",
              "      <td>esmalte</td>\n",
              "      <td>9</td>\n",
              "      <td>algodão rosa</td>\n",
              "      <td>I</td>\n",
              "      <td>N</td>\n",
              "      <td>3</td>\n",
              "      <td>1</td>\n",
              "    </tr>\n",
              "    <tr>\n",
              "      <th>3</th>\n",
              "      <td>07</td>\n",
              "      <td>esmalte</td>\n",
              "      <td>9</td>\n",
              "      <td>algodão rosa</td>\n",
              "      <td>I</td>\n",
              "      <td>N</td>\n",
              "      <td>2</td>\n",
              "      <td>3</td>\n",
              "    </tr>\n",
              "    <tr>\n",
              "      <th>4</th>\n",
              "      <td>07</td>\n",
              "      <td>esmalte</td>\n",
              "      <td>9</td>\n",
              "      <td>algodão rosa</td>\n",
              "      <td>I</td>\n",
              "      <td>N</td>\n",
              "      <td>2</td>\n",
              "      <td>2</td>\n",
              "    </tr>\n",
              "    <tr>\n",
              "      <th>...</th>\n",
              "      <td>...</td>\n",
              "      <td>...</td>\n",
              "      <td>...</td>\n",
              "      <td>...</td>\n",
              "      <td>...</td>\n",
              "      <td>...</td>\n",
              "      <td>...</td>\n",
              "      <td>...</td>\n",
              "    </tr>\n",
              "    <tr>\n",
              "      <th>1543</th>\n",
              "      <td>05</td>\n",
              "      <td>escova de dente</td>\n",
              "      <td>4</td>\n",
              "      <td>mesa branca / toalha marrom</td>\n",
              "      <td>I</td>\n",
              "      <td>D</td>\n",
              "      <td>1</td>\n",
              "      <td>3</td>\n",
              "    </tr>\n",
              "    <tr>\n",
              "      <th>1544</th>\n",
              "      <td>05</td>\n",
              "      <td>escova de dente</td>\n",
              "      <td>4</td>\n",
              "      <td>mesa branca / toalha marrom</td>\n",
              "      <td>I</td>\n",
              "      <td>D</td>\n",
              "      <td>1</td>\n",
              "      <td>2</td>\n",
              "    </tr>\n",
              "    <tr>\n",
              "      <th>1545</th>\n",
              "      <td>05</td>\n",
              "      <td>escova de dente</td>\n",
              "      <td>4</td>\n",
              "      <td>mesa branca / toalha marrom</td>\n",
              "      <td>I</td>\n",
              "      <td>D</td>\n",
              "      <td>3</td>\n",
              "      <td>3</td>\n",
              "    </tr>\n",
              "    <tr>\n",
              "      <th>1546</th>\n",
              "      <td>05</td>\n",
              "      <td>escova de dente</td>\n",
              "      <td>4</td>\n",
              "      <td>mesa branca / toalha marrom</td>\n",
              "      <td>I</td>\n",
              "      <td>D</td>\n",
              "      <td>3</td>\n",
              "      <td>2</td>\n",
              "    </tr>\n",
              "    <tr>\n",
              "      <th>1547</th>\n",
              "      <td>05</td>\n",
              "      <td>escova de dente</td>\n",
              "      <td>4</td>\n",
              "      <td>mesa branca / toalha marrom</td>\n",
              "      <td>E</td>\n",
              "      <td>N</td>\n",
              "      <td>2</td>\n",
              "      <td>3</td>\n",
              "    </tr>\n",
              "  </tbody>\n",
              "</table>\n",
              "<p>1548 rows × 8 columns</p>\n",
              "</div>"
            ],
            "text/plain": [
              "     Classe Descricao_classe Fundo  ... Dia_Noite Objeto Repeticao\n",
              "0        07          esmalte     9  ...         N      3         3\n",
              "1        07          esmalte     9  ...         N      3         2\n",
              "2        07          esmalte     9  ...         N      3         1\n",
              "3        07          esmalte     9  ...         N      2         3\n",
              "4        07          esmalte     9  ...         N      2         2\n",
              "...     ...              ...   ...  ...       ...    ...       ...\n",
              "1543     05  escova de dente     4  ...         D      1         3\n",
              "1544     05  escova de dente     4  ...         D      1         2\n",
              "1545     05  escova de dente     4  ...         D      3         3\n",
              "1546     05  escova de dente     4  ...         D      3         2\n",
              "1547     05  escova de dente     4  ...         N      2         3\n",
              "\n",
              "[1548 rows x 8 columns]"
            ]
          },
          "metadata": {
            "tags": []
          },
          "execution_count": 105
        }
      ]
    },
    {
      "cell_type": "markdown",
      "metadata": {
        "id": "SWKmcQ7bsTSD"
      },
      "source": [
        "Exportando tabela para `.csv`"
      ]
    },
    {
      "cell_type": "code",
      "metadata": {
        "id": "wp2E1z2aqTj9"
      },
      "source": [
        "df.to_csv(\"/content/gdrive/Shareddrives/Grupo Visão/EP1/tabela-detalhada.csv\")"
      ],
      "execution_count": 106,
      "outputs": []
    }
  ]
}