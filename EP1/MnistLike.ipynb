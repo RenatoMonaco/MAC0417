{
  "nbformat": 4,
  "nbformat_minor": 0,
  "metadata": {
    "colab": {
      "name": "MnistLike.ipynb",
      "provenance": [],
      "authorship_tag": "ABX9TyPO20Pxxa8XhT7PfHVPPI0L",
      "include_colab_link": true
    },
    "kernelspec": {
      "name": "python3",
      "display_name": "Python 3"
    },
    "language_info": {
      "name": "python"
    }
  },
  "cells": [
    {
      "cell_type": "markdown",
      "metadata": {
        "id": "view-in-github",
        "colab_type": "text"
      },
      "source": [
        "<a href=\"https://colab.research.google.com/github/RenatoMonaco/MAC0417/blob/main/MnistLike.ipynb\" target=\"_parent\"><img src=\"https://colab.research.google.com/assets/colab-badge.svg\" alt=\"Open In Colab\"/></a>"
      ]
    },
    {
      "cell_type": "code",
      "metadata": {
        "id": "nhDMLrzgXcHu"
      },
      "source": [
        "from google.colab import drive \n",
        "import numpy as np\n",
        "import cv2\n",
        "import os\n",
        "drive.mount('/content/gdrive')\n",
        "\n",
        "path = \"/content/gdrive/Shareddrives/Grupo Visão/EP1/dados\"\n",
        "\n",
        "os.chdir(path)\n",
        "os.listdir()\n"
      ],
      "execution_count": null,
      "outputs": []
    },
    {
      "cell_type": "code",
      "metadata": {
        "colab": {
          "base_uri": "https://localhost:8080/"
        },
        "id": "KmQQM7o0Wz0a",
        "outputId": "8d3d7611-3d3d-49e4-d938-959c69e00313"
      },
      "source": [
        "os.chdir(path)\n",
        "\n",
        "imgArray = []\n",
        "#cv2.namedWindow('final', cv2.WINDOW_NORMAL)\n",
        "\n",
        "for n in range(10):\n",
        "    imgArray.append([])\n",
        "\n",
        "#Cria o array com os arquivos de interesse para o mnist:\n",
        "\n",
        "for file in os.listdir():\n",
        "  if file[:2] != '10':\n",
        "    if int(file[5]) <= 3 and int(file[6]) == 1:\n",
        "      imgArray[int(file[0:2]) - 1].append(file)\n",
        "  else:\n",
        "    if int(file[5]) <= 3 and int(file[6]) == 1:\n",
        "      imgArray[9].append(file)\n",
        "  \n",
        "\n",
        "#Transforma as imgagens de interesse em matrizes, as rotaciona quando necessário\n",
        "# e diminui a resolução das matrizes:\n",
        "\n",
        "for y in range(len(imgArray)):\n",
        "    for x in range(len(imgArray[y])):\n",
        "        im = cv2.imread(imgArray[y][x])\n",
        "        if im.shape[1] != 3840:\n",
        "            imgArray[y][x] = cv2.rotate(im, cv2.ROTATE_90_COUNTERCLOCKWISE)\n",
        "        else:\n",
        "            imgArray[y][x] = im\n",
        "        imgArray[y][x] = cv2.resize(imgArray[y][x], (384,216), interpolation=cv2.INTER_AREA)\n",
        "\n",
        "\n",
        "#Concatena as matrizes horizontalmente:\n",
        "\n",
        "rowArray = []\n",
        "for vIndex in range(10):\n",
        "    print(vIndex)\n",
        "    img1 = imgArray[vIndex][0]\n",
        "    if imgArray[vIndex]:\n",
        "        for hIndex in range(1, len(imgArray[vIndex])):\n",
        "\n",
        "            img2 = imgArray[vIndex][hIndex]\n",
        "            horizontal = np.hstack((img1, img2))\n",
        "            img1 = horizontal\n",
        "        rowArray.append(horizontal)\n",
        "\n",
        "#Concatena as matrizes verticalmente:\n",
        "\n",
        "row1 = rowArray[0]\n",
        "for row in rowArray[1:]:\n",
        "    final = np.vstack((row1,row))\n",
        "    row1 = final\n",
        "\n",
        "\n",
        "#Define a pasta de destino, transforma a matriz em imagem novamente e salva:\n",
        "\n",
        "os.chdir(\"/content/gdrive/MyDrive\")\n",
        "cv2.imwrite('Mnist.jpg', final )\n",
        "print('Done!')\n"
      ],
      "execution_count": 13,
      "outputs": [
        {
          "output_type": "stream",
          "text": [
            "0\n",
            "1\n",
            "2\n",
            "3\n",
            "4\n",
            "5\n",
            "6\n",
            "7\n",
            "8\n",
            "9\n",
            "Done!\n"
          ],
          "name": "stdout"
        }
      ]
    }
  ]
}