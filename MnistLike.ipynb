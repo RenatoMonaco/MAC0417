{
  "nbformat": 4,
  "nbformat_minor": 0,
  "metadata": {
    "colab": {
      "name": "MnistLike.ipynb",
      "provenance": [],
      "authorship_tag": "ABX9TyM5wFRQXROw8iFbo/RlIGyk",
      "include_colab_link": true
    },
    "kernelspec": {
      "name": "python3",
      "display_name": "Python 3"
    },
    "language_info": {
      "name": "python"
    }
  },
  "cells": [
    {
      "cell_type": "markdown",
      "metadata": {
        "id": "view-in-github",
        "colab_type": "text"
      },
      "source": [
        "<a href=\"https://colab.research.google.com/github/RenatoMonaco/MAC0417/blob/main/MnistLike.ipynb\" target=\"_parent\"><img src=\"https://colab.research.google.com/assets/colab-badge.svg\" alt=\"Open In Colab\"/></a>"
      ]
    },
    {
      "cell_type": "code",
      "metadata": {
        "id": "nhDMLrzgXcHu"
      },
      "source": [
        "from google.colab import drive \n",
        "import numpy as np\n",
        "import cv2\n",
        "import os\n",
        "drive.mount('/content/gdrive')\n",
        "\n",
        "path = \"/content/gdrive/Shareddrives/Grupo Visão/EP1/dados\"\n",
        "\n",
        "os.chdir(path)\n",
        "os.listdir()\n"
      ],
      "execution_count": null,
      "outputs": []
    },
    {
      "cell_type": "code",
      "metadata": {
        "colab": {
          "base_uri": "https://localhost:8080/"
        },
        "id": "KmQQM7o0Wz0a",
        "outputId": "e2e921d1-93f1-46cf-c334-766336615d98"
      },
      "source": [
        "os.chdir(path)\n",
        "print(os.listdir())\n",
        "imgArray = []\n",
        "#cv2.namedWindow('final', cv2.WINDOW_NORMAL)\n",
        "\n",
        "for n in range(10):\n",
        "    imgArray.append([])\n",
        "\n",
        "#Cria o array com os arquivos de interesse para o mnist:\n",
        "\n",
        "for file in os.listdir():\n",
        "  if file[:2] != '10':\n",
        "    if int(file[5]) <= 3 and int(file[6]) == 1:\n",
        "      imgArray[int(file[0:2]) - 1].append(file)\n",
        "  else:\n",
        "    if int(file[5]) <= 3 and int(file[6]) == 1:\n",
        "      imgArray[9].append(file)\n",
        "  \n",
        "\n",
        "#Transforma as imgagens de interesse em matrizes, as rotaciona quando necessário\n",
        "# e diminui a resolução das matrizes:\n",
        "\n",
        "for y in range(len(imgArray)):\n",
        "    for x in range(len(imgArray[y])):\n",
        "        im = cv2.imread(imgArray[y][x])\n",
        "        if im.shape[1] != 3840:\n",
        "            imgArray[y][x] = cv2.rotate(im, cv2.ROTATE_90_COUNTERCLOCKWISE)\n",
        "        else:\n",
        "            imgArray[y][x] = im\n",
        "        imgArray[y][x] = cv2.resize(imgArray[y][x], (384,216), interpolation=cv2.INTER_AREA)\n",
        "\n",
        "\n",
        "#Concatena as matrizes horizontalmente:\n",
        "\n",
        "rowArray = []\n",
        "for vIndex in range(10):\n",
        "    print(vIndex)\n",
        "    img1 = imgArray[vIndex][0]\n",
        "    if imgArray[vIndex]:\n",
        "        for hIndex in range(1, len(imgArray[vIndex])):\n",
        "\n",
        "            img2 = imgArray[vIndex][hIndex]\n",
        "            horizontal = np.hstack((img1, img2))\n",
        "            img1 = horizontal\n",
        "        rowArray.append(horizontal)\n",
        "\n",
        "#Concatena as matrizes verticalmente:\n",
        "\n",
        "row1 = rowArray[0]\n",
        "for row in rowArray[1:]:\n",
        "    final = np.vstack((row1,row))\n",
        "    row1 = final\n",
        "\n",
        "\n",
        "#Define a pasta de destino, transforma a matriz em imagem novamente e salva:\n",
        "\n",
        "os.chdir(\"/content/gdrive/MyDrive\")\n",
        "cv2.imwrite('Mnist.jpg', final )\n",
        "print('Done!')\n"
      ],
      "execution_count": 12,
      "outputs": [
        {
          "output_type": "stream",
          "text": [
            "['033EN43.jpg', '023ID51.jpg', '023ID52.jpg', '023ID53.jpg', '033ID11.jpg', '033ID12.jpg', '033ID13.jpg', '033ID21.jpg', '033ID22.jpg', '033ID23.jpg', '033ID31.jpg', '033ID32.jpg', '033ID33.jpg', '033ID41.jpg', '033ID42.jpg', '033ID43.jpg', '064ID11.jpg', '064ID12.jpg', '064ID13.jpg', '064ID21.jpg', '064ID22.jpg', '064ID23.jpg', '064ID31.jpg', '064ID32.jpg', '064ID33.jpg', '064ID41.jpg', '064ID42.jpg', '064ID43.jpg', '064ID51.jpg', '064ID52.jpg', '064ID53.jpg', '054ID11.jpg', '054ID12.jpg', '054ID13.jpg', '054ID23.jpg', '054ID21.jpg', '054ID22.jpg', '054ID31.jpg', '054ID32.jpg', '054ID33.jpg', '054ID41.jpg', '054ID42.jpg', '054ID43.jpg', '054ID51.jpg', '054ID52.jpg', '054ID53.jpg', '044ID11.jpg', '044ID12.jpg', '044ID13.jpg', '044ID21.jpg', '044ID22.jpg', '044ID23.jpg', '044ID31.jpg', '044ID32.jpg', '044ID33.jpg', '044ID41.jpg', '044ID42.jpg', '044ID43.jpg', '044ID51.jpg', '044ID52.jpg', '044ID53.jpg', '065ID11.jpg', '065ID12.jpg', '065ID13.jpg', '065ID21.jpg', '065ID22.jpg', '065ID23.jpg', '065ID31.jpg', '065ID32.jpg', '065ID33.jpg', '065ID41.jpg', '065ID42.jpg', '065ID43.jpg', '065ID51.jpg', '065ID52.jpg', '065ID53.jpg', '055ID11.jpg', '055ID12.jpg', '055ID13.jpg', '055ID23.jpg', '055ID21.jpg', '055ID22.jpg', '055ID31.jpg', '055ID32.jpg', '055ID33.jpg', '055ID41.jpg', '055ID42.jpg', '055ID43.jpg', '055ID51.jpg', '055ID52.jpg', '055ID53.jpg', '045ID11.jpg', '045ID12.jpg', '045ID13.jpg', '045ID21.jpg', '045ID22.jpg', '045ID23.jpg', '045ID31.jpg', '045ID32.jpg', '045ID33.jpg', '045ID41.jpg', '045ID42.jpg', '045ID43.jpg', '045ID51.jpg', '045ID52.jpg', '045ID53.jpg', '066ID11.jpg', '066ID12.jpg', '066ID13.jpg', '066ID21.jpg', '066ID22.jpg', '066ID23.jpg', '066ID31.jpg', '066ID32.jpg', '066ID33.jpg', '066ID41.jpg', '066ID42.jpg', '066ID43.jpg', '066ID51.jpg', '066ID52.jpg', '066ID53.jpg', '056ID11.jpg', '056ID12.jpg', '056ID13.jpg', '056ID23.jpg', '056ID21.jpg', '056ID22.jpg', '056ID31.jpg', '056ID32.jpg', '056ID33.jpg', '056ID41.jpg', '056ID42.jpg', '056ID43.jpg', '056ID51.jpg', '056ID52.jpg', '056ID53.jpg', '046ID11.jpg', '046ID12.jpg', '046ID13.jpg', '046ID21.jpg', '046ID22.jpg', '046ID23.jpg', '046ID31.jpg', '046ID32.jpg', '046ID33.jpg', '046ID41.jpg', '046ID42.jpg', '046ID43.jpg', '046ID51.jpg', '046ID52.jpg', '046ID53.jpg', '064ED11.jpg', '064ED12.jpg', '064ED13.jpg', '064ED21.jpg', '064ED22.jpg', '064ED23.jpg', '064ED31.jpg', '064ED32.jpg', '064ED33.jpg', '064ED41.jpg', '064ED42.jpg', '064ED43.jpg', '064ED51.jpg', '064ED52.jpg', '064ED53.jpg', '054ED11.jpg', '054ED12.jpg', '054ED13.jpg', '054ED21.jpg', '054ED22.jpg', '054ED23.jpg', '054ED31.jpg', '054ED32.jpg', '054ED33.jpg', '054ED41.jpg', '054ED42.jpg', '054ED43.jpg', '054ED51.jpg', '054ED52.jpg', '054ED53.jpg', '044ED11.jpg', '044ED12.jpg', '044ED13.jpg', '044ED21.jpg', '044ED22.jpg', '044ED23.jpg', '044ED31.jpg', '044ED32.jpg', '044ED33.jpg', '044ED41.jpg', '044ED42.jpg', '044ED43.jpg', '044ED51.jpg', '044ED52.jpg', '044ED53.jpg', '065ED11.jpg', '065ED12.jpg', '065ED13.jpg', '065ED21.jpg', '065ED22.jpg', '065ED23.jpg', '065ED31.jpg', '065ED32.jpg', '065ED33.jpg', '065ED41.jpg', '065ED42.jpg', '065ED43.jpg', '065ED51.jpg', '065ED52.jpg', '065ED53.jpg', '055ED11.jpg', '055ED12.jpg', '055ED13.jpg', '055ED23.jpg', '055ED21.jpg', '055ED22.jpg', '055ED31.jpg', '055ED32.jpg', '055ED33.jpg', '055ED41.jpg', '055ED42.jpg', '055ED43.jpg', '055ED51.jpg', '055ED52.jpg', '055ED53.jpg', '045ED11.jpg', '045ED12.jpg', '045ED13.jpg', '045ED21.jpg', '045ED22.jpg', '045ED23.jpg', '045ED31.jpg', '045ED32.jpg', '045ED33.jpg', '045ED41.jpg', '045ED42.jpg', '045ED43.jpg', '045ED51.jpg', '045ED52.jpg', '045ED53.jpg', '066ED11.jpg', '066ED12.jpg', '066ED13.jpg', '066ED21.jpg', '066ED22.jpg', '066ED23.jpg', '066ED31.jpg', '066ED32.jpg', '066ED33.jpg', '066ED41.jpg', '066ED42.jpg', '066ED43.jpg', '066ED51.jpg', '066ED52.jpg', '066ED53.jpg', '056ED11.jpg', '056ED12.jpg', '056ED13.jpg', '056ED23.jpg', '056ED21.jpg', '056ED22.jpg', '056ED31.jpg', '056ED32.jpg', '056ED33.jpg', '056ED41.jpg', '056ED42.jpg', '056ED43.jpg', '056ED51.jpg', '056ED52.jpg', '056ED53.jpg', '046ED11.jpg', '046ED12.jpg', '046ED13.jpg', '046ED21.jpg', '046ED22.jpg', '046ED23.jpg', '046ED31.jpg', '046ED32.jpg', '046ED33.jpg', '046ED41.jpg', '046ED42.jpg', '046ED43.jpg', '046ED51.jpg', '046ED52.jpg', '046ED53.jpg', '064IN11.jpg', '064IN12.jpg', '064IN13.jpg', '064IN21.jpg', '064IN22.jpg', '064IN23.jpg', '064IN31.jpg', '064IN32.jpg', '064IN33.jpg', '064IN41.jpg', '064IN42.jpg', '064IN43.jpg', '064IN51.jpg', '064IN52.jpg', '064IN53.jpg', '054IN11.jpg', '054IN12.jpg', '054IN13.jpg', '054IN23.jpg', '054IN21.jpg', '054IN22.jpg', '054IN31.jpg', '054IN32.jpg', '054IN33.jpg', '054IN41.jpg', '054IN42.jpg', '054IN43.jpg', '054IN51.jpg', '054IN52.jpg', '054IN53.jpg', '044IN11.jpg', '044IN12.jpg', '044IN13.jpg', '044IN21.jpg', '044IN22.jpg', '044IN23.jpg', '044IN31.jpg', '044IN32.jpg', '044IN33.jpg', '044IN41.jpg', '044IN42.jpg', '044IN43.jpg', '044IN51.jpg', '044IN52.jpg', '044IN53.jpg', '065IN11.jpg', '065IN12.jpg', '065IN13.jpg', '065IN21.jpg', '065IN22.jpg', '065IN23.jpg', '065IN31.jpg', '065IN32.jpg', '065IN33.jpg', '065IN41.jpg', '065IN42.jpg', '065IN43.jpg', '065IN51.jpg', '065IN52.jpg', '065IN53.jpg', '055IN11.jpg', '055IN12.jpg', '055IN13.jpg', '055IN23.jpg', '055IN21.jpg', '055IN22.jpg', '055IN31.jpg', '055IN32.jpg', '055IN33.jpg', '055IN41.jpg', '055IN42.jpg', '055IN43.jpg', '055IN51.jpg', '055IN52.jpg', '055IN53.jpg', '045IN11.jpg', '045IN12.jpg', '045IN13.jpg', '045IN21.jpg', '045IN22.jpg', '045IN23.jpg', '045IN31.jpg', '045IN32.jpg', '045IN33.jpg', '045IN41.jpg', '045IN42.jpg', '045IN43.jpg', '045IN51.jpg', '045IN52.jpg', '045IN53.jpg', '066IN11.jpg', '066IN12.jpg', '066IN13.jpg', '066IN21.jpg', '066IN22.jpg', '066IN23.jpg', '066IN31.jpg', '066IN32.jpg', '066IN33.jpg', '066IN41.jpg', '066IN42.jpg', '066IN43.jpg', '066IN51.jpg', '066IN52.jpg', '066IN53.jpg', '046IN11.jpg', '046IN12.jpg', '046IN13.jpg', '046IN21.jpg', '046IN22.jpg', '046IN23.jpg', '046IN31.jpg', '046IN32.jpg', '046IN33.jpg', '046IN41.jpg', '046IN42.jpg', '046IN43.jpg', '046IN51.jpg', '046IN52.jpg', '046IN53.jpg', '056IN11.jpg', '056IN12.jpg', '056IN13.jpg', '056IN23.jpg', '056IN21.jpg', '056IN22.jpg', '056IN31.jpg', '056IN32.jpg', '056IN33.jpg', '056IN41.jpg', '056IN42.jpg', '056IN43.jpg', '056IN51.jpg', '056IN52.jpg', '056IN53.jpg', '064EN11.jpg', '064EN12.jpg', '064EN13.jpg', '064EN21.jpg', '064EN22.jpg', '064EN23.jpg', '064EN31.jpg', '064EN32.jpg', '064EN33.jpg', '064EN41.jpg', '064EN42.jpg', '064EN43.jpg', '064EN51.jpg', '064EN52.jpg', '064EN53.jpg', '054EN11.jpg', '054EN12.jpg', '054EN13.jpg', '054EN21.jpg', '054EN22.jpg', '054EN31.jpg', '054EN32.jpg', '054EN33.jpg', '054EN41.jpg', '054EN42.jpg', '054EN43.jpg', '054EN51.jpg', '054EN52.jpg', '054EN53.jpg', '044EN11.jpg', '044EN12.jpg', '044EN13.jpg', '044EN21.jpg', '044EN22.jpg', '044EN23.jpg', '044EN31.jpg', '044EN32.jpg', '044EN33.jpg', '044EN41.jpg', '044EN42.jpg', '044EN43.jpg', '044EN51.jpg', '044EN52.jpg', '044EN53.jpg', '065EN11.jpg', '065EN12.jpg', '065EN13.jpg', '065EN21.jpg', '065EN22.jpg', '065EN23.jpg', '065EN31.jpg', '065EN32.jpg', '065EN33.jpg', '065EN41.jpg', '065EN42.jpg', '065EN43.jpg', '065EN51.jpg', '065EN52.jpg', '065EN53.jpg', '055EN11.jpg', '055EN12.jpg', '055EN13.jpg', '055EN23.jpg', '055EN21.jpg', '055EN22.jpg', '055EN31.jpg', '055EN32.jpg', '055EN33.jpg', '055EN41.jpg', '055EN42.jpg', '055EN43.jpg', '055EN51.jpg', '055EN52.jpg', '055EN53.jpg', '045EN11.jpg', '045EN12.jpg', '045EN13.jpg', '045EN21.jpg', '045EN22.jpg', '045EN23.jpg', '045EN31.jpg', '045EN32.jpg', '045EN33.jpg', '045EN41.jpg', '045EN42.jpg', '045EN43.jpg', '045EN51.jpg', '045EN52.jpg', '045EN53.jpg', '066EN11.jpg', '066EN12.jpg', '066EN13.jpg', '066EN21.jpg', '066EN22.jpg', '066EN23.jpg', '066EN31.jpg', '066EN32.jpg', '066EN33.jpg', '066EN41.jpg', '066EN42.jpg', '066EN43.jpg', '066EN51.jpg', '066EN52.jpg', '066EN53.jpg', '056EN11.jpg', '056EN12.jpg', '056EN13.jpg', '056EN23.jpg', '056EN21.jpg', '056EN22.jpg', '056EN31.jpg', '056EN32.jpg', '056EN33.jpg', '056EN41.jpg', '056EN42.jpg', '056EN43.jpg', '056EN51.jpg', '056EN52.jpg', '056EN53.jpg', '046EN11.jpg', '046EN12.jpg', '046EN13.jpg', '046EN21.jpg', '046EN22.jpg', '046EN23.jpg', '046EN31.jpg', '046EN32.jpg', '046EN33.jpg', '046EN41.jpg', '046EN42.jpg', '046EN43.jpg', '046EN51.jpg', '046EN52.jpg', '046EN53.jpg', '032EN11.jpg', '032EN12.jpg', '032EN13.jpg', '032EN21.jpg', '032EN22.jpg', '032EN23.jpg', '032EN31.jpg', '032EN32.jpg', '032EN33.jpg', '032EN41.jpg', '032EN42.jpg', '032EN43.jpg', '079IN33.jpeg', '079IN32.jpeg', '079IN31.jpeg', '079IN23.jpeg', '079IN22.jpeg', '079IN21.jpeg', '079IN13.jpeg', '079IN12.jpeg', '079IN11.jpeg', '089IN33.jpeg', '089IN32.jpeg', '089IN31.jpeg', '089IN23.jpeg', '089IN22.jpeg', '089IN21.jpeg', '089IN13.jpeg', '089IN12.jpeg', '089IN11.jpeg', '099IN33.jpeg', '099IN32.jpeg', '099IN31.jpeg', '099IN23.jpeg', '099IN22.jpeg', '099IN21.jpeg', '099IN13.jpeg', '099IN12.jpeg', '099IN11.jpeg', '109IN33.jpeg', '109IN32.jpeg', '109IN31.jpeg', '109IN23.jpeg', '109IN22.jpeg', '109IN21.jpeg', '109IN13.jpeg', '109IN12.jpeg', '109IN11.jpeg', '078IN33.jpeg', '078IN32.jpeg', '078IN31.jpeg', '078IN23.jpeg', '078IN22.jpeg', '078IN21.jpeg', '078IN13.jpeg', '078IN12.jpeg', '078IN11.jpeg', '088IN33.jpeg', '088IN32.jpeg', '088IN31.jpeg', '088IN23.jpeg', '088IN22.jpeg', '088IN21.jpeg', '088IN13.jpeg', '088IN12.jpeg', '088IN11.jpeg', '098IN33.jpeg', '098IN32.jpeg', '098IN31.jpeg', '098IN23.jpeg', '098IN22.jpeg', '098IN21.jpeg', '098IN13.jpeg', '098IN12.jpeg', '098IN11.jpeg', '108IN33.jpeg', '108IN32.jpeg', '108IN31.jpeg', '108IN23.jpeg', '108IN22.jpeg', '108IN21.jpeg', '108IN13.jpeg', '108IN12.jpeg', '108IN11.jpeg', '077IN33.jpeg', '077IN32.jpeg', '077IN31.jpeg', '077IN23.jpeg', '077IN22.jpeg', '077IN21.jpeg', '077IN13.jpeg', '077IN12.jpeg', '077IN11.jpeg', '087IN33.jpeg', '087IN32.jpeg', '087IN31.jpeg', '087IN23.jpeg', '087IN22.jpeg', '087IN21.jpeg', '087IN13.jpeg', '087IN12.jpeg', '087IN11.jpeg', '097IN33.jpeg', '097IN32.jpeg', '097IN31.jpeg', '097IN23.jpeg', '097IN22.jpeg', '097IN21.jpeg', '097IN13.jpeg', '097IN12.jpeg', '097IN11.jpeg', '107IN33.jpeg', '107IN32.jpeg', '107IN31.jpeg', '107IN23.jpeg', '107IN22.jpeg', '107IN21.jpeg', '107IN13.jpeg', '107IN12.jpeg', '107IN11.jpeg', '079EN33.jpeg', '079EN32.jpeg', '079EN31.jpeg', '079EN23.jpeg', '079EN22.jpeg', '079EN21.jpeg', '079EN13.jpeg', '079EN12.jpeg', '079EN11.jpeg', '078EN33.jpeg', '078EN32.jpeg', '078EN31.jpeg', '078EN23.jpeg', '078EN22.jpeg', '078EN21.jpeg', '078EN13.jpeg', '078EN12.jpeg', '078EN11.jpeg', '077EN33.jpeg', '077EN32.jpeg', '077EN31.jpeg', '077EN23.jpeg', '077EN22.jpeg', '077EN21.jpeg', '077EN13.jpeg', '077EN12.jpeg', '077EN11.jpeg', '089EN33.jpeg', '089EN32.jpeg', '089EN31.jpeg', '089EN23.jpeg', '089EN22.jpeg', '089EN21.jpeg', '089EN13.jpeg', '089EN12.jpeg', '089EN11.jpeg', '088EN33.jpeg', '088EN32.jpeg', '088EN31.jpeg', '088EN23.jpeg', '088EN22.jpeg', '088EN21.jpeg', '088EN13.jpeg', '088EN12.jpeg', '088EN11.jpeg', '087EN33.jpeg', '087EN32.jpeg', '087EN31.jpeg', '087EN23.jpeg', '087EN22.jpeg', '087EN21.jpeg', '087EN13.jpeg', '087EN12.jpeg', '087EN11.jpeg', '099EN33.jpeg', '099EN32.jpeg', '099EN31.jpeg', '099EN23.jpeg', '099EN22.jpeg', '099EN21.jpeg', '099EN13.jpeg', '099EN12.jpeg', '099EN11.jpeg', '098EN33.jpeg', '098EN32.jpeg', '098EN31.jpeg', '098EN23.jpeg', '098EN22.jpeg', '098EN21.jpeg', '098EN13.jpeg', '098EN12.jpeg', '098EN11.jpeg', '097EN32.jpeg', '097EN33.jpeg', '097EN31.jpeg', '097EN23.jpeg', '097EN22.jpeg', '097EN21.jpeg', '097EN13.jpeg', '097EN12.jpeg', '097EN11.jpeg', '109EN33.jpeg', '109EN32.jpeg', '109EN31.jpeg', '109EN23.jpeg', '109EN22.jpeg', '109EN21.jpeg', '109EN13.jpeg', '109EN12.jpeg', '109EN11.jpeg', '108EN33.jpeg', '108EN32.jpeg', '108EN31.jpeg', '108EN23.jpeg', '108EN22.jpeg', '108EN21.jpeg', '108EN13.jpeg', '108EN12.jpeg', '108EN11.jpeg', '107EN33.jpeg', '107EN32.jpeg', '107EN31.jpeg', '107EN23.jpeg', '107EN22.jpeg', '107EN21.jpeg', '107EN13.jpeg', '107EN12.jpeg', '107EN11.jpeg', '079ED33.jpeg', '079ED32.jpeg', '079ED31.jpeg', '079ED23.jpeg', '079ED22.jpeg', '079ED21.jpeg', '079ED13.jpeg', '079ED12.jpeg', '079ED11.jpeg', '089ED33.jpeg', '089ED32.jpeg', '089ED31.jpeg', '089ED23.jpeg', '089ED22.jpeg', '089ED21.jpeg', '089ED13.jpeg', '089ED12.jpeg', '089ED11.jpeg', '099ED33.jpeg', '099ED32.jpeg', '099ED31.jpeg', '099ED23.jpeg', '099ED22.jpeg', '099ED21.jpeg', '099ED13.jpeg', '099ED12.jpeg', '099ED11.jpeg', '109ED33.jpeg', '109ED32.jpeg', '109ED31.jpeg', '109ED23.jpeg', '109ED22.jpeg', '109ED21.jpeg', '109ED13.jpeg', '109ED12.jpeg', '109ED11.jpeg', '078ED33.jpeg', '078ED32.jpeg', '078ED31.jpeg', '078ED23.jpeg', '078ED22.jpeg', '078ED21.jpeg', '078ED13.jpeg', '078ED12.jpeg', '078ED11.jpeg', '088ED33.jpeg', '088ED32.jpeg', '088ED31.jpeg', '088ED23.jpeg', '088ED22.jpeg', '088ED21.jpeg', '088ED13.jpeg', '088ED12.jpeg', '088ED11.jpeg', '098ED33.jpeg', '098ED32.jpeg', '098ED31.jpeg', '098ED23.jpeg', '098ED22.jpeg', '098ED21.jpeg', '098ED13.jpeg', '098ED12.jpeg', '098ED11.jpeg', '108ED33.jpeg', '108ED32.jpeg', '108ED31.jpeg', '108ED23.jpeg', '108ED22.jpeg', '108ED21.jpeg', '108ED13.jpeg', '108ED12.jpeg', '108ED11.jpeg', '077ED33.jpeg', '077ED32.jpeg', '077ED31.jpeg', '077ED23.jpeg', '077ED22.jpeg', '077ED21.jpeg', '077ED13.jpeg', '077ED12.jpeg', '077ED11.jpeg', '087ED33.jpeg', '087ED32.jpeg', '087ED31.jpeg', '087ED23.jpeg', '087ED22.jpeg', '087ED21.jpeg', '087ED13.jpeg', '087ED12.jpeg', '087ED11.jpeg', '097ED33.jpeg', '097ED32.jpeg', '097ED31.jpeg', '097ED23.jpeg', '097ED22.jpeg', '097ED21.jpeg', '097ED13.jpeg', '097ED12.jpeg', '097ED11.jpeg', '107ED33.jpeg', '107ED32.jpeg', '107ED31.jpeg', '107ED23.jpeg', '107ED22.jpeg', '107ED21.jpeg', '107ED13.jpeg', '107ED12.jpeg', '107ED11.jpeg', '079ID33.jpeg', '079ID32.jpeg', '079ID31.jpeg', '079ID23.jpeg', '079ID22.jpeg', '079ID21.jpeg', '079ID13.jpeg', '079ID12.jpeg', '079ID11.jpeg', '078ID33.jpeg', '078ID32.jpeg', '078ID31.jpeg', '078ID23.jpeg', '078ID22.jpeg', '078ID21.jpeg', '078ID13.jpeg', '078ID12.jpeg', '078ID11.jpeg', '077ID33.jpeg', '077ID32.jpeg', '077ID31.jpeg', '077ID23.jpeg', '077ID22.jpeg', '077ID21.jpeg', '077ID13.jpeg', '077ID12.jpeg', '077ID11.jpeg', '089ID33.jpeg', '089ID32.jpeg', '089ID31.jpeg', '089ID23.jpeg', '089ID22.jpeg', '089ID21.jpeg', '089ID13.jpeg', '089ID12.jpeg', '089ID11.jpeg', '088ID33.jpeg', '088ID32.jpeg', '088ID31.jpeg', '088ID23.jpeg', '088ID22.jpeg', '088ID21.jpeg', '088ID13.jpeg', '088ID12.jpeg', '088ID11.jpeg', '087ID33.jpeg', '087ID32.jpeg', '087ID31.jpeg', '087ID23.jpeg', '087ID22.jpeg', '087ID21.jpeg', '087ID13.jpeg', '087ID12.jpeg', '087ID11.jpeg', '099ID33.jpeg', '099ID32.jpeg', '099ID31.jpeg', '099ID23.jpeg', '099ID22.jpeg', '099ID21.jpeg', '099ID13.jpeg', '099ID12.jpeg', '099ID11.jpeg', '098ID33.jpeg', '098ID32.jpeg', '098ID31.jpeg', '098ID23.jpeg', '098ID22.jpeg', '098ID21.jpeg', '098ID13.jpeg', '098ID12.jpeg', '098ID11.jpeg', '097ID33.jpeg', '097ID32.jpeg', '097ID31.jpeg', '097ID23.jpeg', '097ID22.jpeg', '097ID21.jpeg', '097ID13.jpeg', '097ID12.jpeg', '097ID11.jpeg', '109ID33.jpeg', '109ID32.jpeg', '109ID31.jpeg', '109ID23.jpeg', '109ID22.jpeg', '109ID21.jpeg', '109ID13.jpeg', '109ID12.jpeg', '109ID11.jpeg', '108ID33.jpeg', '108ID32.jpeg', '108ID31.jpeg', '108ID23.jpeg', '108ID22.jpeg', '108ID21.jpeg', '108ID13.jpeg', '108ID12.jpeg', '108ID11.jpeg', '107ID33.jpeg', '107ID32.jpeg', '107ID31.jpeg', '107ID23.jpeg', '107ID22.jpeg', '107ID21.jpeg', '107ID13.jpeg', '107ID12.jpeg', '107ID11.jpeg', '054EN23.jpg', '011ID11.jpg', '011ID12.jpg', '011ID13.jpg', '011ID21.jpg', '011ID22.jpg', '011ID23.jpg', '011ID31.jpg', '011ID32.jpg', '011ID33.jpg', '011ID41.jpg', '011ID42.jpg', '011ID43.jpg', '011ID51.jpg', '011ID52.jpg', '011ID53.jpg', '011ID71.jpg', '011ID72.jpg', '011ID73.jpg', '011ID61.jpg', '011ID62.jpg', '011ID63.jpg', '021ID11.jpg', '021ID12.jpg', '021ID13.jpg', '021ID21.jpg', '021ID22.jpg', '021ID23.jpg', '021ID31.jpg', '021ID32.jpg', '021ID33.jpg', '021ID41.jpg', '021ID42.jpg', '021ID43.jpg', '021ID51.jpg', '021ID52.jpg', '021ID53.jpg', '031ID21.jpg', '031ID22.jpg', '031ID23.jpg', '031ID31.jpg', '031ID32.jpg', '031ID33.jpg', '031ID41.jpg', '031ID42.jpg', '031ID43.jpg', '031ID11.jpg', '031ID12.jpg', '031ID13.jpg', '012ID11.jpg', '012ID12.jpg', '012ID13.jpg', '012ID21.jpg', '012ID22.jpg', '012ID23.jpg', '012ID31.jpg', '012ID32.jpg', '012ID33.jpg', '012ID41.jpg', '012ID42.jpg', '012ID43.jpg', '012ID51.jpg', '012ID52.jpg', '012ID53.jpg', '012ID71.jpg', '012ID72.jpg', '012ID73.jpg', '012ID61.jpg', '012ID62.jpg', '012ID63.jpg', '022ID11.jpg', '022ID12.jpg', '022ID13.jpg', '022ID21.jpg', '022ID22.jpg', '022ID23.jpg', '022ID31.jpg', '022ID32.jpg', '022ID33.jpg', '022ID41.jpg', '022ID42.jpg', '022ID43.jpg', '022ID51.jpg', '022ID52.jpg', '022ID53.jpg', '032ID11.jpg', '032ID12.jpg', '032ID13.jpg', '032ID21.jpg', '032ID22.jpg', '032ID23.jpg', '032ID31.jpg', '032ID32.jpg', '032ID33.jpg', '032ID41.jpg', '032ID42.jpg', '032ID43.jpg', '013ID11.jpg', '013ID12.jpg', '013ID13.jpg', '013ID21.jpg', '013ID22.jpg', '013ID23.jpg', '013ID31.jpg', '013ID32.jpg', '013ID33.jpg', '013ID41.jpg', '013ID42.jpg', '013ID43.jpg', '013ID51.jpg', '013ID52.jpg', '013ID53.jpg', '013ID61.jpg', '013ID62.jpg', '013ID63.jpg', '013ID71.jpg', '013ID72.jpg', '013ID73.jpg', '023ID11.jpg', '023ID12.jpg', '023ID13.jpg', '023ID21.jpg', '023ID22.jpg', '023ID23.jpg', '023ID31.jpg', '023ID32.jpg', '023ID33.jpg', '023ID41.jpg', '023ID42.jpg', '023ID43.jpg', '011ED11.jpg', '011ED12.jpg', '011ED13.jpg', '011ED21.jpg', '011ED22.jpg', '011ED23.jpg', '011ED31.jpg', '011ED32.jpg', '011ED33.jpg', '011ED41.jpg', '011ED42.jpg', '011ED43.jpg', '011ED51.jpg', '011ED52.jpg', '011ED53.jpg', '011ED61.jpg', '011ED62.jpg', '011ED63.jpg', '011ED71.jpg', '011ED72.jpg', '011ED73.jpg', '021ED11.jpg', '021ED12.jpg', '021ED13.jpg', '021ED21.jpg', '021ED22.jpg', '021ED23.jpg', '021ED31.jpg', '021ED32.jpg', '021ED33.jpg', '021ED41.jpg', '021ED42.jpg', '021ED43.jpg', '021ED51.jpg', '021ED52.jpg', '021ED53.jpg', '031ED11.jpg', '031ED12.jpg', '031ED13.jpg', '031ED21.jpg', '031ED22.jpg', '031ED23.jpg', '031ED31.jpg', '031ED32.jpg', '031ED33.jpg', '031ED41.jpg', '031ED42.jpg', '031ED43.jpg', '012ED11.jpg', '012ED12.jpg', '012ED13.jpg', '012ED21.jpg', '012ED22.jpg', '012ED23.jpg', '012ED31.jpg', '012ED32.jpg', '012ED33.jpg', '012ED41.jpg', '012ED42.jpg', '012ED43.jpg', '012ED51.jpg', '012ED52.jpg', '012ED53.jpg', '012ED61.jpg', '012ED62.jpg', '012ED63.jpg', '012ED71.jpg', '012ED72.jpg', '012ED73.jpg', '022ED11.jpg', '022ED12.jpg', '022ED13.jpg', '022ED21.jpg', '022ED22.jpg', '022ED23.jpg', '022ED31.jpg', '022ED32.jpg', '022ED33.jpg', '022ED41.jpg', '022ED42.jpg', '022ED43.jpg', '022ED51.jpg', '022ED52.jpg', '022ED53.jpg', '032ED11.jpg', '032ED12.jpg', '032ED13.jpg', '032ED21.jpg', '032ED22.jpg', '032ED23.jpg', '032ED31.jpg', '032ED32.jpg', '032ED33.jpg', '032ED41.jpg', '032ED42.jpg', '032ED43.jpg', '013ED11.jpg', '013ED12.jpg', '013ED13.jpg', '013ED21.jpg', '013ED22.jpg', '013ED23.jpg', '013ED31.jpg', '013ED32.jpg', '013ED33.jpg', '013ED41.jpg', '013ED42.jpg', '013ED43.jpg', '013ED51.jpg', '013ED52.jpg', '013ED53.jpg', '013ED71.jpg', '013ED72.jpg', '013ED73.jpg', '013ED61.jpg', '013ED62.jpg', '013ED63.jpg', '023ED11.jpg', '023ED12.jpg', '023ED13.jpg', '023ED21.jpg', '023ED22.jpg', '023ED23.jpg', '023ED31.jpg', '023ED32.jpg', '023ED33.jpg', '023ED41.jpg', '023ED42.jpg', '023ED43.jpg', '023ED51.jpg', '023ED52.jpg', '023ED53.jpg', '033ED11.jpg', '033ED12.jpg', '033ED13.jpg', '033ED21.jpg', '033ED22.jpg', '033ED23.jpg', '033ED31.jpg', '033ED32.jpg', '033ED33.jpg', '033ED41.jpg', '033ED42.jpg', '033ED43.jpg', '011IN11.jpg', '011IN12.jpg', '011IN13.jpg', '011IN21.jpg', '011IN22.jpg', '011IN23.jpg', '011IN31.jpg', '011IN32.jpg', '011IN33.jpg', '011IN41.jpg', '011IN42.jpg', '011IN43.jpg', '011IN51.jpg', '011IN52.jpg', '011IN53.jpg', '011IN71.jpg', '011IN72.jpg', '011IN73.jpg', '011IN61.jpg', '011IN62.jpg', '011IN63.jpg', '021IN11.jpg', '021IN12.jpg', '021IN13.jpg', '021IN21.jpg', '021IN22.jpg', '021IN23.jpg', '021IN31.jpg', '021IN32.jpg', '021IN33.jpg', '021IN41.jpg', '021IN42.jpg', '021IN43.jpg', '021IN51.jpg', '021IN52.jpg', '021IN53.jpg', '031IN12.jpg', '031IN11.jpg', '031IN13.jpg', '031IN22.jpg', '031IN21.jpg', '031IN23.jpg', '031IN31.jpg', '031IN32.jpg', '031IN33.jpg', '031IN41.jpg', '031IN42.jpg', '031IN43.jpg', '012IN11.jpg', '012IN12.jpg', '012IN13.jpg', '012IN21.jpg', '012IN22.jpg', '012IN23.jpg', '012IN31.jpg', '012IN32.jpg', '012IN33.jpg', '012IN41.jpg', '012IN42.jpg', '012IN43.jpg', '012IN51.jpg', '012IN52.jpg', '012IN53.jpg', '012IN61.jpg', '012IN62.jpg', '012IN63.jpg', '012IN71.jpg', '012IN72.jpg', '012IN73.jpg', '022IN11.jpg', '022IN12.jpg', '022IN13.jpg', '022IN21.jpg', '022IN22.jpg', '022IN23.jpg', '022IN31.jpg', '022IN32.jpg', '022IN33.jpg', '022IN41.jpg', '022IN42.jpg', '022IN43.jpg', '022IN51.jpg', '022IN52.jpg', '022IN53.jpg', '032IN11.jpg', '032IN12.jpg', '032IN13.jpg', '032IN21.jpg', '032IN22.jpg', '032IN23.jpg', '032IN31.jpg', '032IN32.jpg', '032IN33.jpg', '032IN41.jpg', '032IN42.jpg', '032IN43.jpg', '013IN11.jpg', '013IN12.jpg', '013IN13.jpg', '013IN21.jpg', '013IN22.jpg', '013IN23.jpg', '013IN31.jpg', '013IN32.jpg', '013IN33.jpg', '013IN41.jpg', '013IN42.jpg', '013IN43.jpg', '013IN51.jpg', '013IN52.jpg', '013IN53.jpg', '013IN61.jpg', '013IN62.jpg', '013IN63.jpg', '013IN71.jpg', '013IN72.jpg', '013IN73.jpg', '023IN11.jpg', '023IN12.jpg', '023IN13.jpg', '023IN21.jpg', '023IN22.jpg', '023IN23.jpg', '023IN31.jpg', '023IN32.jpg', '023IN33.jpg', '023IN42.jpg', '023IN41.jpg', '023IN43.jpg', '023IN51.jpg', '023IN52.jpg', '023IN53.jpg', '033IN11.jpg', '033IN12.jpg', '033IN13.jpg', '033IN21.jpg', '033IN22.jpg', '033IN23.jpg', '033IN31.jpg', '033IN32.jpg', '033IN33.jpg', '033IN41.jpg', '033IN42.jpg', '033IN43.jpg', '011EN11.jpg', '011EN12.jpg', '011EN13.jpg', '011EN21.jpg', '011EN22.jpg', '011EN23.jpg', '011EN31.jpg', '011EN32.jpg', '011EN33.jpg', '011EN41.jpg', '011EN42.jpg', '011EN43.jpg', '011EN51.jpg', '011EN52.jpg', '011EN53.jpg', '011EN71.jpg', '011EN72.jpg', '011EN73.jpg', '011EN61.jpg', '011EN62.jpg', '011EN63.jpg', '021EN11.jpg', '021EN12.jpg', '021EN13.jpg', '021EN21.jpg', '021EN22.jpg', '021EN23.jpg', '021EN31.jpg', '021EN32.jpg', '021EN33.jpg', '021EN41.jpg', '021EN42.jpg', '021EN43.jpg', '021EN51.jpg', '021EN52.jpg', '021EN53.jpg', '031EN11.jpg', '031EN12.jpg', '031EN13.jpg', '031EN21.jpg', '031EN22.jpg', '031EN23.jpg', '031EN31.jpg', '031EN32.jpg', '031EN33.jpg', '031EN41.jpg', '031EN42.jpg', '031EN43.jpg', '012EN11.jpg', '012EN12.jpg', '012EN13.jpg', '012EN21.jpg', '012EN22.jpg', '012EN23.jpg', '012EN31.jpg', '012EN32.jpg', '012EN33.jpg', '012EN41.jpg', '012EN42.jpg', '012EN43.jpg', '012EN51.jpg', '012EN52.jpg', '012EN53.jpg', '012EN71.jpg', '012EN72.jpg', '012EN73.jpg', '012EN61.jpg', '012EN62.jpg', '012EN63.jpg', '022EN11.jpg', '022EN12.jpg', '022EN13.jpg', '022EN21.jpg', '022EN22.jpg', '022EN23.jpg', '022EN31.jpg', '022EN32.jpg', '022EN33.jpg', '022EN41.jpg', '022EN42.jpg', '022EN43.jpg', '022EN51.jpg', '022EN52.jpg', '022EN53.jpg', '013EN11.jpg', '013EN12.jpg', '013EN13.jpg', '013EN21.jpg', '013EN22.jpg', '013EN23.jpg', '013EN31.jpg', '013EN32.jpg', '013EN33.jpg', '013EN41.jpg', '013EN42.jpg', '013EN43.jpg', '013EN51.jpg', '013EN52.jpg', '013EN53.jpg', '013EN71.jpg', '013EN72.jpg', '013EN73.jpg', '013EN61.jpg', '013EN62.jpg', '013EN63.jpg', '023EN11.jpg', '023EN12.jpg', '023EN13.jpg', '023EN21.jpg', '023EN22.jpg', '023EN23.jpg', '023EN31.jpg', '023EN32.jpg', '023EN33.jpg', '023EN41.jpg', '023EN42.jpg', '023EN43.jpg', '023EN51.jpg', '023EN52.jpg', '023EN53.jpg', '033EN11.jpg', '033EN12.jpg', '033EN13.jpg', '033EN21.jpg', '033EN22.jpg', '033EN23.jpg', '033EN31.jpg', '033EN32.jpg', '033EN33.jpg', '033EN41.jpg', '033EN42.jpg']\n",
            "0\n",
            "1\n",
            "2\n",
            "3\n",
            "4\n",
            "5\n",
            "6\n",
            "7\n",
            "8\n",
            "9\n",
            "Done!\n"
          ],
          "name": "stdout"
        }
      ]
    }
  ]
}